{
 "cells": [
  {
   "cell_type": "code",
   "execution_count": 1,
   "id": "b1dcad6e",
   "metadata": {},
   "outputs": [],
   "source": [
    "import pandas as pd"
   ]
  },
  {
   "cell_type": "code",
   "execution_count": 2,
   "id": "6adb7f25",
   "metadata": {},
   "outputs": [],
   "source": [
    "def clean_and_convert_price(df, price_column='price_usd', output_column='price_php', usd_to_php=58):\n",
    "    # Remove rows with missing or non-numeric prices\n",
    "    df = df[pd.to_numeric(df[price_column], errors='coerce').notnull()].copy()\n",
    "\n",
    "    # Convert to float and apply exchange rate\n",
    "    df[output_column] = df[price_column].astype(float) * usd_to_php\n",
    "\n",
    "    return df\n"
   ]
  },
  {
   "cell_type": "code",
   "execution_count": 30,
   "id": "c53e576d",
   "metadata": {},
   "outputs": [],
   "source": [
    "gpu_df = pd.read_csv('filtered_gpu_dataset.csv')"
   ]
  },
  {
   "cell_type": "code",
   "execution_count": 31,
   "id": "f44f5db6",
   "metadata": {},
   "outputs": [],
   "source": [
    "gpu_df = clean_and_convert_price(gpu_df, price_column='price', output_column='item_price_in_php', usd_to_php=58)\n",
    "\n",
    "gpu_df.head()\n",
    "gpu_df.to_csv('data/processed/gpu_test.csv')"
   ]
  },
  {
   "cell_type": "code",
   "execution_count": 16,
   "id": "3d92aa0e",
   "metadata": {},
   "outputs": [],
   "source": [
    "def get_gpu_generation(chipset: str) -> str:\n",
    "    chipset = chipset.lower()\n",
    "    if \"rtx 50\" in chipset or \"rtx 40\" in chipset or \"rtx 30\" in chipset:\n",
    "        return \"Supported\"\n",
    "    elif \"rx 9000\" in chipset or \"rx 7000\" in chipset or \"rx 6000\" in chipset:\n",
    "        return \"Supported\"\n",
    "    return \"Old/Unsupported\"\n",
    "\n",
    "gpu_df['gpu_generation'] = gpu_df['chipset'].apply(get_gpu_generation)\n",
    "\n",
    "gpu_df = gpu_df[gpu_df['gpu_generation'] == \"Supported\"]\n",
    "\n",
    "gpu_df = gpu_df.drop(columns=[\"gpu_generation\"])\n",
    "gpu_df.to_csv('data/processed/gpu_test.csv')"
   ]
  },
  {
   "cell_type": "code",
   "execution_count": 25,
   "id": "71e72c6a",
   "metadata": {},
   "outputs": [
    {
     "name": "stdout",
     "output_type": "stream",
     "text": [
      "Filtered GPU dataset saved. Final count: 91\n"
     ]
    }
   ],
   "source": [
    "gpu_df = pd.read_csv('data/raw/ppp/video-card.csv')\n",
    "\n",
    "GEN_LIMITS = {\n",
    "    \"RTX 50\": 25,\n",
    "    \"RTX 40\": 30,\n",
    "    \"RTX 30\": 8,\n",
    "    \"RX 9000\": 20,\n",
    "    \"RX 7000\": 25,\n",
    "    \"RX 6000\": 5\n",
    "}\n",
    "\n",
    "def detect_generation(chipset):\n",
    "    if \"RTX 50\" in chipset:\n",
    "        return \"RTX 50\"\n",
    "    elif \"RTX 40\" in chipset:\n",
    "        return \"RTX 40\"\n",
    "    elif \"RTX 30\" in chipset:\n",
    "        return \"RTX 30\"\n",
    "    elif \"RX 9000\" in chipset or \"RX 9\" in chipset:\n",
    "        return \"RX 9000\"\n",
    "    elif \"RX 7000\" in chipset or \"RX 7\" in chipset:\n",
    "        return \"RX 7000\"\n",
    "    elif \"RX 6000\" in chipset or \"RX 6\" in chipset:\n",
    "        return \"RX 6000\"\n",
    "    return None\n",
    "\n",
    "# Add 'generation' column\n",
    "gpu_df[\"generation\"] = gpu_df[\"chipset\"].apply(detect_generation)\n",
    "\n",
    "# Drop unsupported generations\n",
    "gpu_df = gpu_df[gpu_df[\"generation\"].notnull()]\n",
    "\n",
    "# Extract model core (e.g., RTX 4060, RX 6600)\n",
    "gpu_df[\"chip_core\"] = gpu_df[\"chipset\"].str.extract(r\"(RTX\\s?\\d{4,5}|RX\\s?\\d{4,5})\", expand=False)\n",
    "\n",
    "# Sort by generation > chip_core > price\n",
    "gpu_df = gpu_df.sort_values(by=[\"generation\", \"chip_core\"])\n",
    "\n",
    "# === Apply per-generation cap ===\n",
    "filtered_df = pd.DataFrame()\n",
    "for gen, limit in GEN_LIMITS.items():\n",
    "    gen_df = gpu_df[gpu_df[\"generation\"] == gen]\n",
    "    # group by chip_core (e.g., 4070, 5080) and get 5 per model max\n",
    "    per_model = gen_df.groupby(\"chip_core\").head(5)\n",
    "    # then slice to match total allowed per generation\n",
    "    capped = per_model.head(limit)\n",
    "    filtered_df = pd.concat([filtered_df, capped])\n",
    "\n",
    "# Clean up\n",
    "filtered_df = filtered_df.drop(columns=[\"generation\", \"chip_core\"])\n",
    "filtered_df.to_csv(\"filtered_gpu_dataset.csv\", index=False)\n",
    "\n",
    "print(f\"Filtered GPU dataset saved. Final count: {len(filtered_df)}\")\n"
   ]
  }
 ],
 "metadata": {
  "kernelspec": {
   "display_name": ".venv",
   "language": "python",
   "name": "python3"
  },
  "language_info": {
   "codemirror_mode": {
    "name": "ipython",
    "version": 3
   },
   "file_extension": ".py",
   "mimetype": "text/x-python",
   "name": "python",
   "nbconvert_exporter": "python",
   "pygments_lexer": "ipython3",
   "version": "3.12.1"
  }
 },
 "nbformat": 4,
 "nbformat_minor": 5
}
