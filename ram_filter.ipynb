{
 "cells": [
  {
   "cell_type": "code",
   "execution_count": 2,
   "id": "6b6ca491",
   "metadata": {},
   "outputs": [],
   "source": [
    "import pandas as pd\n",
    "import numpy as np\n",
    "from rapidfuzz import process, fuzz\n",
    "import re"
   ]
  },
  {
   "cell_type": "markdown",
   "id": "35974b07",
   "metadata": {},
   "source": [
    "awdd;flkjasdflkajsdf          a;'jc xk ,"
   ]
  },
  {
   "cell_type": "code",
   "execution_count": 3,
   "id": "53097444",
   "metadata": {},
   "outputs": [],
   "source": [
    "ram_ppp = pd.read_csv('data/raw/ppp/memory.csv')\n",
    "ram_local = pd.read_csv('data/filtered/prices_ram.csv')"
   ]
  },
  {
   "cell_type": "markdown",
   "id": "175c301e",
   "metadata": {},
   "source": [
    "filter ppp ram\n"
   ]
  },
  {
   "cell_type": "code",
   "execution_count": null,
   "id": "3d6264e8",
   "metadata": {},
   "outputs": [],
   "source": [
    "def valid_ram(modules):\n",
    "    sticks, per_stick = map(int, modules.split(','))\n",
    "    total = sticks * per_stick\n",
    "    return total >= 8 and not (sticks == 2 and per_stick == 4)\n",
    "\n",
    "ram_ppp = ram_ppp[ram_ppp['modules'].apply(valid_ram)]\n",
    "\n",
    "\n",
    "ram_ppp.head()"
   ]
  },
  {
   "cell_type": "code",
   "execution_count": null,
   "id": "22488b83",
   "metadata": {},
   "outputs": [],
   "source": [
    "ram_ppp[['ddr_gen', 'mhz']] = ram_ppp['speed'].str.split(',', expand=True)\n",
    "\n",
    "ram_ppp['ddr_gen'] = ram_ppp['ddr_gen'].astype(int)\n",
    "ram_ppp['mhz'] = ram_ppp['mhz'].astype(int)\n",
    "\n",
    "ram_ppp = ram_ppp.drop(columns=['speed'])\n",
    "\n"
   ]
  },
  {
   "cell_type": "code",
   "execution_count": null,
   "id": "7e3e227e",
   "metadata": {},
   "outputs": [],
   "source": [
    "ram_ppp = ram_ppp[ram_ppp['ddr_gen'] >= 4]\n",
    "\n",
    "ram_ppp.to_csv('data/filtered/ppp_filtered_ram.csv', index=False)"
   ]
  },
  {
   "cell_type": "code",
   "execution_count": null,
   "id": "6e7b19fc",
   "metadata": {},
   "outputs": [],
   "source": [
    "def parse_local_ram(df):\n",
    "    # Create new columns for parsed values\n",
    "    df['total_capacity_gb'] = None\n",
    "    df['modules'] = None\n",
    "    df['ddr_gen'] = None\n",
    "    df['mhz'] = None\n",
    "    df['cl'] = None\n",
    "    df['voltage'] = None\n",
    "    \n",
    "    for i, row in df.iterrows():\n",
    "        name = row['item_name'].lower()\n",
    "        \n",
    "        # extract total capacity (64gb)\n",
    "        cap_match = re.search(r'(\\d+)\\s?gb', name)\n",
    "        total_capacity = int(cap_match.group(1)) if cap_match else None\n",
    "        \n",
    "        # check if dual/kit is mentioned\n",
    "        if \"(dual\" in name or \"2x\" in name or \"2 x\" in name:\n",
    "            modules = f\"2,{total_capacity // 2}\" if total_capacity else None\n",
    "        else:\n",
    "            modules = f\"1,{total_capacity}\" if total_capacity else None\n",
    "\n",
    "        # generation (ddr4 or ddr5)\n",
    "        if \"ddr4\" in name:\n",
    "            ddr_gen = 4\n",
    "        elif \"ddr5\" in name:\n",
    "            ddr_gen = 5\n",
    "        else:\n",
    "            ddr_gen = None\n",
    "        \n",
    "        # speed (MHz)\n",
    "        mhz_match = re.search(r'ddr[45]\\s*(\\d{3,5})', name)\n",
    "        mhz = int(mhz_match.group(1)) if mhz_match else None\n",
    "        \n",
    "        # --- CAS Latency (CL)\n",
    "        cl_match = re.search(r'cl(\\d+)', name)\n",
    "        cl = int(cl_match.group(1)) if cl_match else None\n",
    "        \n",
    "        # --- Voltage (e.g., 1.35v)\n",
    "        volt_match = re.search(r'(\\d\\.\\d+)\\s?v', name)\n",
    "        voltage = float(volt_match.group(1)) if volt_match else None\n",
    "        \n",
    "        # Assign extracted values\n",
    "        df.at[i, 'total_capacity_gb'] = total_capacity\n",
    "        df.at[i, 'modules'] = modules\n",
    "        df.at[i, 'ddr_gen'] = ddr_gen\n",
    "        df.at[i, 'mhz'] = mhz\n",
    "        df.at[i, 'cl'] = cl\n",
    "        df.at[i, 'voltage'] = voltage\n",
    "\n",
    "    return df\n"
   ]
  },
  {
   "cell_type": "code",
   "execution_count": null,
   "id": "ed57ef0c",
   "metadata": {},
   "outputs": [],
   "source": [
    "ram_local = parse_local_ram(ram_local)\n",
    "ram_local.head()\n",
    "\n",
    "ram_local.to_csv('data/filtered/prices_ram.csv', index=False)"
   ]
  },
  {
   "cell_type": "code",
   "execution_count": null,
   "id": "bbcd1010",
   "metadata": {},
   "outputs": [],
   "source": [
    "ram_local = ram_local[['total_capacity_gb', 'ddr_gen', 'mhz', 'item_price_in_php', 'voltage']]\n",
    "\n",
    "merged_ram = pd.merge(\n",
    "    ram_ppp,\n",
    "    ram_local,\n",
    "    left_on=['ddr_gen', 'mhz', 'total_capacity'],\n",
    "    right_on=['ddr_gen', 'mhz', 'total_capacity_gb'],\n",
    "    how='inner'\n",
    ")\n"
   ]
  },
  {
   "cell_type": "code",
   "execution_count": null,
   "id": "8fe02360",
   "metadata": {},
   "outputs": [],
   "source": [
    "local_ram_grouped = (\n",
    "    ram_local\n",
    "    .groupby(['ddr_gen', 'mhz', 'total_capacity_gb'], as_index=False)\n",
    "    .agg({\n",
    "        'item_price_in_php': 'min',  \n",
    "        'voltage': 'first'           \n",
    "    })\n",
    ")\n",
    "\n",
    "merged_ram = pd.merge(\n",
    "    ram_ppp,\n",
    "    local_ram_grouped,\n",
    "    left_on=['ddr_gen', 'mhz', 'total_capacity'],\n",
    "    right_on=['ddr_gen', 'mhz', 'total_capacity_gb'],\n",
    "    how='inner'\n",
    ").drop(columns=['total_capacity_gb'])\n",
    "\n",
    "merged_ram.to_csv('data/processed/ram_merged.csv', index=False)\n"
   ]
  },
  {
   "cell_type": "code",
   "execution_count": null,
   "id": "3f023256",
   "metadata": {},
   "outputs": [
    {
     "ename": "KeyError",
     "evalue": "'item_name'",
     "output_type": "error",
     "traceback": [
      "\u001b[31m---------------------------------------------------------------------------\u001b[39m",
      "\u001b[31mKeyError\u001b[39m                                  Traceback (most recent call last)",
      "\u001b[36mFile \u001b[39m\u001b[32m/workspaces/python-pcparts-cleaner/.venv/lib/python3.12/site-packages/pandas/core/indexes/base.py:3812\u001b[39m, in \u001b[36mIndex.get_loc\u001b[39m\u001b[34m(self, key)\u001b[39m\n\u001b[32m   3811\u001b[39m \u001b[38;5;28;01mtry\u001b[39;00m:\n\u001b[32m-> \u001b[39m\u001b[32m3812\u001b[39m     \u001b[38;5;28;01mreturn\u001b[39;00m \u001b[38;5;28;43mself\u001b[39;49m\u001b[43m.\u001b[49m\u001b[43m_engine\u001b[49m\u001b[43m.\u001b[49m\u001b[43mget_loc\u001b[49m\u001b[43m(\u001b[49m\u001b[43mcasted_key\u001b[49m\u001b[43m)\u001b[49m\n\u001b[32m   3813\u001b[39m \u001b[38;5;28;01mexcept\u001b[39;00m \u001b[38;5;167;01mKeyError\u001b[39;00m \u001b[38;5;28;01mas\u001b[39;00m err:\n",
      "\u001b[36mFile \u001b[39m\u001b[32mpandas/_libs/index.pyx:167\u001b[39m, in \u001b[36mpandas._libs.index.IndexEngine.get_loc\u001b[39m\u001b[34m()\u001b[39m\n",
      "\u001b[36mFile \u001b[39m\u001b[32mpandas/_libs/index.pyx:196\u001b[39m, in \u001b[36mpandas._libs.index.IndexEngine.get_loc\u001b[39m\u001b[34m()\u001b[39m\n",
      "\u001b[36mFile \u001b[39m\u001b[32mpandas/_libs/hashtable_class_helper.pxi:7088\u001b[39m, in \u001b[36mpandas._libs.hashtable.PyObjectHashTable.get_item\u001b[39m\u001b[34m()\u001b[39m\n",
      "\u001b[36mFile \u001b[39m\u001b[32mpandas/_libs/hashtable_class_helper.pxi:7096\u001b[39m, in \u001b[36mpandas._libs.hashtable.PyObjectHashTable.get_item\u001b[39m\u001b[34m()\u001b[39m\n",
      "\u001b[31mKeyError\u001b[39m: 'item_name'",
      "\nThe above exception was the direct cause of the following exception:\n",
      "\u001b[31mKeyError\u001b[39m                                  Traceback (most recent call last)",
      "\u001b[36mCell\u001b[39m\u001b[36m \u001b[39m\u001b[32mIn[11]\u001b[39m\u001b[32m, line 9\u001b[39m\n\u001b[32m      4\u001b[39m \u001b[38;5;28;01mdef\u001b[39;00m\u001b[38;5;250m \u001b[39m\u001b[34mstrip_suffix\u001b[39m(name):\n\u001b[32m      5\u001b[39m     \u001b[38;5;28;01mreturn\u001b[39;00m name.split(\u001b[33m'\u001b[39m\u001b[33m,\u001b[39m\u001b[33m'\u001b[39m)[\u001b[32m0\u001b[39m].strip()\n\u001b[32m----> \u001b[39m\u001b[32m9\u001b[39m ram_local[\u001b[33m'\u001b[39m\u001b[33mclean_name\u001b[39m\u001b[33m'\u001b[39m] = \u001b[43mram_local\u001b[49m\u001b[43m[\u001b[49m\u001b[33;43m'\u001b[39;49m\u001b[33;43mitem_name\u001b[39;49m\u001b[33;43m'\u001b[39;49m\u001b[43m]\u001b[49m.apply(clean_item_name).apply(strip_suffix)\n\u001b[32m     11\u001b[39m ram_local = ram_local.drop(columns=[\u001b[33m'\u001b[39m\u001b[33mcategory_name\u001b[39m\u001b[33m'\u001b[39m])\n\u001b[32m     13\u001b[39m ram_local.to_csv(\u001b[33m'\u001b[39m\u001b[33mdata/processed/ram_merged.csv\u001b[39m\u001b[33m'\u001b[39m)\n",
      "\u001b[36mFile \u001b[39m\u001b[32m/workspaces/python-pcparts-cleaner/.venv/lib/python3.12/site-packages/pandas/core/frame.py:4107\u001b[39m, in \u001b[36mDataFrame.__getitem__\u001b[39m\u001b[34m(self, key)\u001b[39m\n\u001b[32m   4105\u001b[39m \u001b[38;5;28;01mif\u001b[39;00m \u001b[38;5;28mself\u001b[39m.columns.nlevels > \u001b[32m1\u001b[39m:\n\u001b[32m   4106\u001b[39m     \u001b[38;5;28;01mreturn\u001b[39;00m \u001b[38;5;28mself\u001b[39m._getitem_multilevel(key)\n\u001b[32m-> \u001b[39m\u001b[32m4107\u001b[39m indexer = \u001b[38;5;28;43mself\u001b[39;49m\u001b[43m.\u001b[49m\u001b[43mcolumns\u001b[49m\u001b[43m.\u001b[49m\u001b[43mget_loc\u001b[49m\u001b[43m(\u001b[49m\u001b[43mkey\u001b[49m\u001b[43m)\u001b[49m\n\u001b[32m   4108\u001b[39m \u001b[38;5;28;01mif\u001b[39;00m is_integer(indexer):\n\u001b[32m   4109\u001b[39m     indexer = [indexer]\n",
      "\u001b[36mFile \u001b[39m\u001b[32m/workspaces/python-pcparts-cleaner/.venv/lib/python3.12/site-packages/pandas/core/indexes/base.py:3819\u001b[39m, in \u001b[36mIndex.get_loc\u001b[39m\u001b[34m(self, key)\u001b[39m\n\u001b[32m   3814\u001b[39m     \u001b[38;5;28;01mif\u001b[39;00m \u001b[38;5;28misinstance\u001b[39m(casted_key, \u001b[38;5;28mslice\u001b[39m) \u001b[38;5;129;01mor\u001b[39;00m (\n\u001b[32m   3815\u001b[39m         \u001b[38;5;28misinstance\u001b[39m(casted_key, abc.Iterable)\n\u001b[32m   3816\u001b[39m         \u001b[38;5;129;01mand\u001b[39;00m \u001b[38;5;28many\u001b[39m(\u001b[38;5;28misinstance\u001b[39m(x, \u001b[38;5;28mslice\u001b[39m) \u001b[38;5;28;01mfor\u001b[39;00m x \u001b[38;5;129;01min\u001b[39;00m casted_key)\n\u001b[32m   3817\u001b[39m     ):\n\u001b[32m   3818\u001b[39m         \u001b[38;5;28;01mraise\u001b[39;00m InvalidIndexError(key)\n\u001b[32m-> \u001b[39m\u001b[32m3819\u001b[39m     \u001b[38;5;28;01mraise\u001b[39;00m \u001b[38;5;167;01mKeyError\u001b[39;00m(key) \u001b[38;5;28;01mfrom\u001b[39;00m\u001b[38;5;250m \u001b[39m\u001b[34;01merr\u001b[39;00m\n\u001b[32m   3820\u001b[39m \u001b[38;5;28;01mexcept\u001b[39;00m \u001b[38;5;167;01mTypeError\u001b[39;00m:\n\u001b[32m   3821\u001b[39m     \u001b[38;5;66;03m# If we have a listlike key, _check_indexing_error will raise\u001b[39;00m\n\u001b[32m   3822\u001b[39m     \u001b[38;5;66;03m#  InvalidIndexError. Otherwise we fall through and re-raise\u001b[39;00m\n\u001b[32m   3823\u001b[39m     \u001b[38;5;66;03m#  the TypeError.\u001b[39;00m\n\u001b[32m   3824\u001b[39m     \u001b[38;5;28mself\u001b[39m._check_indexing_error(key)\n",
      "\u001b[31mKeyError\u001b[39m: 'item_name'"
     ]
    }
   ],
   "source": [
    "\n",
    "def clean_item_name(name):\n",
    "    return re.sub(r'^\\s*\\d+gb\\s*(?:\\([^)]+\\))?\\s*ddr\\d\\s*\\d+\\s*', '', name, flags=re.IGNORECASE)\n",
    "\n",
    "def strip_suffix(name):\n",
    "    return name.split(',')[0].strip()\n",
    "\n",
    "\n",
    "\n",
    "ram_local['clean_name'] = ram_local['item_name'].apply(clean_item_name).apply(strip_suffix)\n",
    "\n",
    "\n",
    "\n",
    "ram_local.to_csv('data/processed/ram_merged.csv')\n"
   ]
  },
  {
   "cell_type": "code",
   "execution_count": 13,
   "id": "65aad8aa",
   "metadata": {},
   "outputs": [],
   "source": [
    "\n",
    "ram_local = ram_local.drop(columns=['category_name'])\n",
    "ram_local.to_csv('data/processed/ram_merged.csv')\n"
   ]
  },
  {
   "cell_type": "code",
   "execution_count": 22,
   "id": "a4846040",
   "metadata": {},
   "outputs": [],
   "source": [
    "\n",
    "ram_local['item_price_in_php'] = ram_local['item_price_in_php'].astype(float)\n",
    "ram_local['stocks'] = ram_local['stocks'].astype(int)\n",
    "ram_local['total_capacity_gb'] = ram_local['total_capacity_gb'].astype(int)\n",
    "ram_local['num_modules'] = ram_local['num_modules'].astype(int)\n",
    "ram_local['capacity_per_module_gb'] = ram_local['capacity_per_module_gb'].astype(int)\n",
    "ram_local['ddr_gen'] = ram_local['ddr_gen'].astype(int)\n",
    "ram_local['mhz'] = ram_local['mhz'].astype(int)\n",
    "ram_local['cl'] = ram_local['cl'].astype(float)\n",
    "ram_local['voltage'] = ram_local['voltage'].astype(float)\n",
    "\n",
    "ram_local['brand'] = ram_local['clean_name'].str.split().str[0]\n",
    "\n",
    "proper_order = [\n",
    "    'brand', 'clean_name', 'item_price_in_php', 'stocks',\n",
    "    'total_capacity_gb', 'num_modules', 'capacity_per_module_gb',\n",
    "    'ddr_gen', 'mhz', 'cl', 'voltage'\n",
    "]\n",
    "ram_local = ram_local[proper_order]\n",
    "\n",
    "ram_local = ram_local[~ram_local['clean_name'].str.contains('sodimm', case=False, na=False)]\n",
    "\n",
    "ram_local.to_csv('data/processed/ram_merged.csv')\n"
   ]
  },
  {
   "cell_type": "code",
   "execution_count": 18,
   "id": "279a6bdf",
   "metadata": {},
   "outputs": [
    {
     "name": "stdout",
     "output_type": "stream",
     "text": [
      "['item_price_in_php', 'stocks', 'total_capacity_gb', 'ddr_gen', 'mhz', 'cl', 'voltage', 'clean_name', 'num_modules', 'capacity_per_module_gb']\n"
     ]
    }
   ],
   "source": [
    "print(ram_local.columns.tolist())\n"
   ]
  }
 ],
 "metadata": {
  "kernelspec": {
   "display_name": ".venv",
   "language": "python",
   "name": "python3"
  },
  "language_info": {
   "codemirror_mode": {
    "name": "ipython",
    "version": 3
   },
   "file_extension": ".py",
   "mimetype": "text/x-python",
   "name": "python",
   "nbconvert_exporter": "python",
   "pygments_lexer": "ipython3",
   "version": "3.12.1"
  }
 },
 "nbformat": 4,
 "nbformat_minor": 5
}
